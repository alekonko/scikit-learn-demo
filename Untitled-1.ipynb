{
 "cells": [
  {
   "cell_type": "code",
   "execution_count": null,
   "metadata": {},
   "outputs": [],
   "source": [
    "import pandas as pd\n",
    "from sklearn.tree import DecisionTreeClassifier\n",
    "\n",
    "csv_file_path = 'XMAS_data2023.csv'"
   ]
  },
  {
   "cell_type": "code",
   "execution_count": null,
   "metadata": {},
   "outputs": [],
   "source": [
    "# Read the CSV file into a pandas DataFrame\n",
    "df = pd.read_csv(csv_file_path, index_col=0)\n",
    "\n",
    "# Set pandas options to display all columns and rows\n",
    "pd.set_option('display.max_columns', None)\n",
    "pd.set_option('display.max_rows', None)\n",
    "pd.set_option('display.expand_frame_repr', False)\n"
   ]
  },
  {
   "cell_type": "code",
   "execution_count": null,
   "metadata": {},
   "outputs": [],
   "source": [
    "target_1_rows = df[df['target'] == 1]\n",
    "print(target_1_rows)"
   ]
  },
  {
   "cell_type": "code",
   "execution_count": null,
   "metadata": {},
   "outputs": [],
   "source": [
    "# Estrai le colonne delle feature (X) e della variabile target (y)\n",
    "X = df.iloc[:, :-1]\n",
    "y = df.iloc[:, -1]\n",
    "\n",
    "# Crea un modello di albero decisionale\n",
    "clf = DecisionTreeClassifier()\n",
    "\n",
    "# Addestra il modello sull'intero dataset\n",
    "clf.fit(X, y)\n",
    "\n",
    "# Estrai le feature più importanti\n",
    "feature_importance = clf.feature_importances_"
   ]
  },
  {
   "cell_type": "code",
   "execution_count": null,
   "metadata": {},
   "outputs": [],
   "source": [
    "# Crea un DataFrame con le feature e le relative importanze\n",
    "feature_importance_df = pd.DataFrame({'Feature': X.columns, 'Importance': feature_importance})\n",
    "\n",
    "# Ordina il DataFrame in base all'importanza delle feature in ordine decrescente\n",
    "feature_importance_df = feature_importance_df.sort_values(by='Importance', ascending=False)\n",
    "\n",
    "# Stampare il DataFrame risultante\n",
    "print(feature_importance_df)"
   ]
  },
  {
   "cell_type": "code",
   "execution_count": null,
   "metadata": {},
   "outputs": [],
   "source": []
  },
  {
   "cell_type": "code",
   "execution_count": null,
   "metadata": {},
   "outputs": [],
   "source": [
    "\n",
    "# Rimuovi le features con importanza 0\n",
    "non_zero_importance_df = feature_importance_df[feature_importance_df['Importance'] > 0]\n",
    "print(non_zero_importance_df)\n"
   ]
  },
  {
   "cell_type": "code",
   "execution_count": null,
   "metadata": {},
   "outputs": [],
   "source": [
    "# Ordina il DataFrame in base all'importanza delle feature in ordine decrescente\n",
    "non_zero_importance_df = non_zero_importance_df.sort_values(by='Importance', ascending=False)\n",
    "\n",
    "# Stampa il DataFrame risultante\n",
    "print(non_zero_importance_df)"
   ]
  },
  {
   "cell_type": "code",
   "execution_count": null,
   "metadata": {},
   "outputs": [],
   "source": [
    "# Estrai il nome delle colonne con importanza maggiore di 0\n",
    "non_zero_columns = non_zero_importance_df['Feature'].tolist()\n",
    "\n",
    "# Seleziona solo le colonne non nulle nel DataFrame originale\n",
    "X_processed = X[non_zero_columns]\n",
    "\n",
    "# Aggiungi la variabile target al DataFrame X_processed\n",
    "X_processed['target'] = y\n",
    "\n",
    "# Crea un nuovo DataFrame con le colonne non nulle\n",
    "new_df = X_processed.copy()\n",
    "\n",
    "# Stampa il nuovo DataFrame\n",
    "print(new_df)\n"
   ]
  },
  {
   "cell_type": "code",
   "execution_count": null,
   "metadata": {},
   "outputs": [],
   "source": [
    "import pandas as pd\n",
    "\n",
    "# Supponiamo che il tuo DataFrame sia chiamato 'df' e abbia una colonna 'binary_code' che rappresenta il codice binario a 7 bit\n",
    "# e una colonna 'target' che rappresenta la variabile target (0 o 1)\n",
    "\n",
    "# Esempio di creazione di un DataFrame di esempio\n",
    "data = {'binary_code': ['0100001', '1001001', '1100001'],\n",
    "        'target': [0, 1, 1]}\n",
    "df = pd.DataFrame(data)\n",
    "\n",
    "# Itera sul DataFrame e stampa il carattere corrispondente per ogni riga\n",
    "for index, row in df.iterrows():\n",
    "    binary_code = row['binary_code']\n",
    "    character = chr(int(binary_code, 2))\n",
    "    target = row['target']\n",
    "    print(f\"Index {index}: Binary Code: {binary_code}, Character: {character}, Target: {target}\")\n"
   ]
  },
  {
   "cell_type": "code",
   "execution_count": null,
   "metadata": {},
   "outputs": [],
   "source": [
    "df = pd.read_csv(csv_file_path, index_col=0)\n",
    "df_sorted = df.reindex(sorted(df.columns), axis=1).copy()\n",
    "\n",
    "# Stampa il nuovo DataFrame\n",
    "print(df_sorted)"
   ]
  }
 ],
 "metadata": {
  "kernelspec": {
   "display_name": ".venv",
   "language": "python",
   "name": "python3"
  },
  "language_info": {
   "codemirror_mode": {
    "name": "ipython",
    "version": 3
   },
   "file_extension": ".py",
   "mimetype": "text/x-python",
   "name": "python",
   "nbconvert_exporter": "python",
   "pygments_lexer": "ipython3",
   "version": "3.12.1"
  }
 },
 "nbformat": 4,
 "nbformat_minor": 2
}
